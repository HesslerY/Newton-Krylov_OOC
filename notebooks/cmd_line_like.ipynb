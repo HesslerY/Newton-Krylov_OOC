{
 "cells": [
  {
   "cell_type": "code",
   "execution_count": 1,
   "metadata": {},
   "outputs": [],
   "source": [
    "import os\n",
    "import xarray\n",
    "from src.test_problem import setup_solver\n",
    "from src import nk_driver"
   ]
  },
  {
   "cell_type": "code",
   "execution_count": 2,
   "metadata": {},
   "outputs": [
    {
     "name": "stdout",
     "output_type": "stream",
     "text": [
      "2020-06-02 11:18:31,776:41183:setup_solver.py:main:args.cfg_fname=\"/Users/klindsay/codes/Newton-Krylov_OOC/input/test_problem/newton_krylov.cfg\"\n",
      "2020-06-02 11:18:31,784:41183:gen_invoker_script.py:gen_invoker_script:generating /Users/klindsay/test_problem_work/nk_driver.sh\n",
      "2020-06-02 11:18:31,786:41183:setup_solver.py:main:grid_weight_fname=\"/Users/klindsay/test_problem_work/depth_axis_test.nc\"\n",
      "2020-06-02 11:18:31,815:41183:setup_solver.py:main:fp_iter=0\n",
      "2020-06-02 11:18:54,466:41183:setup_solver.py:main:fp_iter=1\n",
      "2020-06-02 11:19:17,636:41183:setup_solver.py:main:init_iterate_fname=\"/Users/klindsay/test_problem_work/gen_init_iterate/init_iterate.nc\"\n"
     ]
    }
   ],
   "source": [
    "# test parse_args with no arguments\n",
    "setup_solver.main(setup_solver.parse_args())"
   ]
  },
  {
   "cell_type": "code",
   "execution_count": 3,
   "metadata": {},
   "outputs": [],
   "source": [
    "common_args = [\"--tracer_module_names\", \"iage\"]"
   ]
  },
  {
   "cell_type": "code",
   "execution_count": 4,
   "metadata": {},
   "outputs": [
    {
     "name": "stdout",
     "output_type": "stream",
     "text": [
      "2020-06-02 11:19:17,726:41183:setup_solver.py:main:args.cfg_fname=\"/Users/klindsay/codes/Newton-Krylov_OOC/input/test_problem/newton_krylov.cfg\"\n",
      "2020-06-02 11:19:17,731:41183:gen_invoker_script.py:gen_invoker_script:generating /Users/klindsay/test_problem_work/nk_driver.sh\n",
      "2020-06-02 11:19:17,733:41183:setup_solver.py:main:grid_weight_fname=\"/Users/klindsay/test_problem_work/depth_axis_test.nc\"\n",
      "2020-06-02 11:19:17,753:41183:setup_solver.py:main:fp_iter=0\n",
      "2020-06-02 11:19:20,909:41183:setup_solver.py:main:init_iterate_fname=\"/Users/klindsay/test_problem_work/gen_init_iterate/init_iterate.nc\"\n"
     ]
    }
   ],
   "source": [
    "setup_solver.main(setup_solver.parse_args(common_args + [\"--fp_cnt\", \"1\"]))"
   ]
  },
  {
   "cell_type": "code",
   "execution_count": 5,
   "metadata": {},
   "outputs": [
    {
     "name": "stdout",
     "output_type": "stream",
     "text": [
      "2020-06-02 11:19:20,934:41183:model_config.py:__init__:loading content from /Users/klindsay/codes/Newton-Krylov_OOC/input/test_problem/tracer_module_defs.yaml\n",
      "2020-06-02 11:19:20,957:41183:model_config.py:check_shadow_tracers:tracer module phosphorus has po4_s as a shadow for po4\n",
      "2020-06-02 11:19:20,961:41183:model_config.py:check_shadow_tracers:tracer module phosphorus has dop_s as a shadow for dop\n",
      "2020-06-02 11:19:20,962:41183:model_config.py:check_shadow_tracers:tracer module phosphorus has pop_s as a shadow for pop\n",
      "2020-06-02 11:19:20,966:41183:model_config.py:__init__:reading depth_delta from /Users/klindsay/test_problem_work/depth_axis_test.nc for grid_weight\n",
      "2020-06-02 11:19:20,968:41183:nk_driver.py:main:using class ModelState from src.test_problem.model_state for model state\n",
      "2020-06-02 11:19:20,970:41183:solver_state.py:__init__:\"Newton\" iteration now 0\n",
      "2020-06-02 11:19:24,064:41183:tracer_module_state_base.py:log_vals:iteration=00,iterate,mean[iage]=5.675355e+02\n",
      "2020-06-02 11:19:24,064:41183:tracer_module_state_base.py:log_vals:iteration=00,iterate,norm[iage]=6.866744e+02\n",
      "2020-06-02 11:19:24,065:41183:tracer_module_state_base.py:log_vals:iteration=00,fcn,mean[iage]=-6.279780e-01\n",
      "2020-06-02 11:19:24,068:41183:tracer_module_state_base.py:log_vals:iteration=00,fcn,norm[iage]=2.680751e+00\n",
      "2020-06-02 11:19:24,069:41183:solver_state.py:__init__:\"Krylov\" iteration now 0\n",
      "2020-06-02 11:19:26,931:41183:tracer_module_state_base.py:log_vals:KrylovCoeff[iage]=1.111417e+02\n",
      "2020-06-02 11:19:26,937:41183:solver_state.py:inc_iteration:\"Krylov\" iteration now 1\n",
      "2020-06-02 11:19:30,343:41183:tracer_module_state_base.py:log_vals:KrylovCoeff[iage,0]=1.143862e+02\n",
      "2020-06-02 11:19:30,344:41183:tracer_module_state_base.py:log_vals:KrylovCoeff[iage,1]=-4.878567e+00\n",
      "2020-06-02 11:19:30,352:41183:solver_state.py:inc_iteration:\"Krylov\" iteration now 2\n",
      "2020-06-02 11:19:33,673:41183:tracer_module_state_base.py:log_vals:KrylovCoeff[iage,0]=1.143444e+02\n",
      "2020-06-02 11:19:33,674:41183:tracer_module_state_base.py:log_vals:KrylovCoeff[iage,1]=-4.909801e+00\n",
      "2020-06-02 11:19:33,675:41183:tracer_module_state_base.py:log_vals:KrylovCoeff[iage,2]=2.025089e-01\n",
      "2020-06-02 11:19:33,683:41183:solver_state.py:inc_iteration:\"Krylov\" iteration now 3\n",
      "2020-06-02 11:19:36,846:41183:tracer_module_state_base.py:log_vals:KrylovCoeff[iage,0]=1.143528e+02\n",
      "2020-06-02 11:19:36,846:41183:tracer_module_state_base.py:log_vals:KrylovCoeff[iage,1]=-4.905695e+00\n",
      "2020-06-02 11:19:36,847:41183:tracer_module_state_base.py:log_vals:KrylovCoeff[iage,2]=2.048021e-01\n",
      "2020-06-02 11:19:36,852:41183:tracer_module_state_base.py:log_vals:KrylovCoeff[iage,3]=-1.341370e-02\n",
      "2020-06-02 11:19:36,864:41183:tracer_module_state_base.py:log_vals:Newton increment 00,mean[iage]=-9.108381e+01\n",
      "2020-06-02 11:19:36,867:41183:tracer_module_state_base.py:log_vals:Newton increment 00,norm[iage]=1.144581e+02\n",
      "2020-06-02 11:19:40,169:41183:newton_solver.py:_comp_next_iterate:Armijo_ind=0\n",
      "2020-06-02 11:19:40,170:41183:tracer_module_state_base.py:log_vals:ArmijoFactor[iage]=1.000000e+00\n",
      "2020-06-02 11:19:40,171:41183:tracer_module_state_base.py:log_vals:fcn_norm[iage]=2.680751e+00\n",
      "2020-06-02 11:19:40,176:41183:tracer_module_state_base.py:log_vals:prov_fcn_norm[iage]=6.880539e-04\n",
      "2020-06-02 11:19:40,178:41183:newton_solver.py:_comp_next_iterate:Armijo condition satisfied\n",
      "2020-06-02 11:19:40,187:41183:tracer_module_state_base.py:log_vals:iteration=00,pre-fp_iter,iterate,mean[iage]=4.764517e+02\n",
      "2020-06-02 11:19:40,190:41183:tracer_module_state_base.py:log_vals:iteration=00,pre-fp_iter,iterate,norm[iage]=5.750831e+02\n",
      "2020-06-02 11:19:40,193:41183:tracer_module_state_base.py:log_vals:iteration=00,pre-fp_iter,fcn,mean[iage]=-7.075834e-05\n",
      "2020-06-02 11:19:40,195:41183:tracer_module_state_base.py:log_vals:iteration=00,pre-fp_iter,fcn,norm[iage]=6.880539e-04\n",
      "2020-06-02 11:19:43,260:41183:tracer_module_state_base.py:log_vals:iteration=00,fp_iter=01,iterate,mean[iage]=4.764516e+02\n",
      "2020-06-02 11:19:43,260:41183:tracer_module_state_base.py:log_vals:iteration=00,fp_iter=01,iterate,norm[iage]=5.750831e+02\n",
      "2020-06-02 11:19:43,262:41183:tracer_module_state_base.py:log_vals:iteration=00,fp_iter=01,fcn,mean[iage]=1.784460e-05\n",
      "2020-06-02 11:19:43,263:41183:tracer_module_state_base.py:log_vals:iteration=00,fp_iter=01,fcn,norm[iage]=1.892401e-04\n",
      "2020-06-02 11:19:43,266:41183:solver_state.py:inc_iteration:\"Newton\" iteration now 1\n",
      "2020-06-02 11:19:43,276:41183:tracer_module_state_base.py:log_vals:iteration=01,iterate,mean[iage]=4.764516e+02\n",
      "2020-06-02 11:19:43,277:41183:tracer_module_state_base.py:log_vals:iteration=01,iterate,norm[iage]=5.750831e+02\n",
      "2020-06-02 11:19:43,278:41183:tracer_module_state_base.py:log_vals:iteration=01,fcn,mean[iage]=1.784460e-05\n",
      "2020-06-02 11:19:43,281:41183:tracer_module_state_base.py:log_vals:iteration=01,fcn,norm[iage]=1.892401e-04\n",
      "2020-06-02 11:19:43,283:41183:solver_state.py:__init__:\"Krylov\" iteration now 0\n",
      "2020-06-02 11:19:46,582:41183:tracer_module_state_base.py:log_vals:KrylovCoeff[iage]=5.353272e-04\n",
      "2020-06-02 11:19:46,585:41183:solver_state.py:inc_iteration:\"Krylov\" iteration now 1\n",
      "2020-06-02 11:19:49,817:41183:tracer_module_state_base.py:log_vals:KrylovCoeff[iage,0]=6.433761e-04\n",
      "2020-06-02 11:19:49,818:41183:tracer_module_state_base.py:log_vals:KrylovCoeff[iage,1]=-2.922948e-04\n",
      "2020-06-02 11:19:49,826:41183:solver_state.py:inc_iteration:\"Krylov\" iteration now 2\n",
      "2020-06-02 11:19:53,134:41183:tracer_module_state_base.py:log_vals:KrylovCoeff[iage,0]=6.431090e-04\n",
      "2020-06-02 11:19:53,135:41183:tracer_module_state_base.py:log_vals:KrylovCoeff[iage,1]=-2.951806e-04\n",
      "2020-06-02 11:19:53,136:41183:tracer_module_state_base.py:log_vals:KrylovCoeff[iage,2]=8.636308e-06\n",
      "2020-06-02 11:19:53,141:41183:solver_state.py:inc_iteration:\"Krylov\" iteration now 3\n",
      "2020-06-02 11:19:56,799:41183:tracer_module_state_base.py:log_vals:KrylovCoeff[iage,0]=6.432214e-04\n",
      "2020-06-02 11:19:56,800:41183:tracer_module_state_base.py:log_vals:KrylovCoeff[iage,1]=-2.948814e-04\n",
      "2020-06-02 11:19:56,802:41183:tracer_module_state_base.py:log_vals:KrylovCoeff[iage,2]=8.756851e-06\n",
      "2020-06-02 11:19:56,803:41183:tracer_module_state_base.py:log_vals:KrylovCoeff[iage,3]=-6.094849e-07\n",
      "2020-06-02 11:19:56,815:41183:tracer_module_state_base.py:log_vals:Newton increment 01,mean[iage]=-3.423880e-05\n",
      "2020-06-02 11:19:56,817:41183:tracer_module_state_base.py:log_vals:Newton increment 01,norm[iage]=7.076481e-04\n",
      "2020-06-02 11:19:59,757:41183:newton_solver.py:_comp_next_iterate:Armijo_ind=0\n",
      "2020-06-02 11:19:59,758:41183:tracer_module_state_base.py:log_vals:ArmijoFactor[iage]=1.000000e+00\n",
      "2020-06-02 11:19:59,759:41183:tracer_module_state_base.py:log_vals:fcn_norm[iage]=1.892401e-04\n",
      "2020-06-02 11:19:59,761:41183:tracer_module_state_base.py:log_vals:prov_fcn_norm[iage]=2.897981e-08\n",
      "2020-06-02 11:19:59,762:41183:newton_solver.py:_comp_next_iterate:Armijo condition satisfied\n",
      "2020-06-02 11:19:59,768:41183:tracer_module_state_base.py:log_vals:iteration=01,pre-fp_iter,iterate,mean[iage]=4.764516e+02\n",
      "2020-06-02 11:19:59,769:41183:tracer_module_state_base.py:log_vals:iteration=01,pre-fp_iter,iterate,norm[iage]=5.750830e+02\n",
      "2020-06-02 11:19:59,770:41183:tracer_module_state_base.py:log_vals:iteration=01,pre-fp_iter,fcn,mean[iage]=3.839552e-09\n",
      "2020-06-02 11:19:59,771:41183:tracer_module_state_base.py:log_vals:iteration=01,pre-fp_iter,fcn,norm[iage]=2.897981e-08\n",
      "2020-06-02 11:20:02,901:41183:tracer_module_state_base.py:log_vals:iteration=01,fp_iter=01,iterate,mean[iage]=4.764516e+02\n",
      "2020-06-02 11:20:02,901:41183:tracer_module_state_base.py:log_vals:iteration=01,fp_iter=01,iterate,norm[iage]=5.750830e+02\n",
      "2020-06-02 11:20:02,902:41183:tracer_module_state_base.py:log_vals:iteration=01,fp_iter=01,fcn,mean[iage]=-2.776540e-10\n",
      "2020-06-02 11:20:02,905:41183:tracer_module_state_base.py:log_vals:iteration=01,fp_iter=01,fcn,norm[iage]=5.253197e-09\n",
      "2020-06-02 11:20:02,907:41183:solver_state.py:inc_iteration:\"Newton\" iteration now 2\n",
      "2020-06-02 11:20:02,918:41183:nk_driver.py:main:convergence criterion satisfied\n",
      "2020-06-02 11:20:02,919:41183:tracer_module_state_base.py:log_vals:iteration=02,iterate,mean[iage]=4.764516e+02\n",
      "2020-06-02 11:20:02,922:41183:tracer_module_state_base.py:log_vals:iteration=02,iterate,norm[iage]=5.750830e+02\n",
      "2020-06-02 11:20:02,923:41183:tracer_module_state_base.py:log_vals:iteration=02,fcn,mean[iage]=-2.776540e-10\n",
      "2020-06-02 11:20:02,925:41183:tracer_module_state_base.py:log_vals:iteration=02,fcn,norm[iage]=5.253197e-09\n"
     ]
    }
   ],
   "source": [
    "nk_driver.main(nk_driver.parse_args(common_args + [\"--persist\"]))"
   ]
  },
  {
   "cell_type": "code",
   "execution_count": null,
   "metadata": {},
   "outputs": [],
   "source": []
  }
 ],
 "metadata": {
  "kernelspec": {
   "display_name": "Python 3",
   "language": "python",
   "name": "python3"
  },
  "language_info": {
   "codemirror_mode": {
    "name": "ipython",
    "version": 3
   },
   "file_extension": ".py",
   "mimetype": "text/x-python",
   "name": "python",
   "nbconvert_exporter": "python",
   "pygments_lexer": "ipython3",
   "version": "3.6.10"
  }
 },
 "nbformat": 4,
 "nbformat_minor": 4
}
